{
 "cells": [
  {
   "cell_type": "markdown",
   "id": "e5e4b57e-0b5b-47cb-8bff-b39352d7bb8c",
   "metadata": {},
   "source": [
    "# TableMark Project"
   ]
  },
  {
   "cell_type": "code",
   "execution_count": null,
   "id": "c4b04ec0-643b-4a55-86e6-feac833a0d68",
   "metadata": {},
   "outputs": [],
   "source": [
    "# Creating a working model(code base) of highlighting content tables in a drawing\n",
    "# in square blocks whenever it is appearing in full PDF of drawing mini project"
   ]
  },
  {
   "cell_type": "code",
   "execution_count": null,
   "id": "5b45e025-8804-44d5-bebd-289e1348bd0f",
   "metadata": {},
   "outputs": [],
   "source": [
    "# pip install reportlab\n",
    "# !pip install pdfplumber PyMuPDF\n",
    "# !pip install streamlit pillow"
   ]
  },
  {
   "cell_type": "code",
   "execution_count": 1,
   "id": "99b583b2-3186-499d-a543-6d30199bebf0",
   "metadata": {},
   "outputs": [
    {
     "name": "stderr",
     "output_type": "stream",
     "text": [
      "2025-07-23 00:46:51.475 WARNING streamlit.runtime.scriptrunner_utils.script_run_context: Thread 'MainThread': missing ScriptRunContext! This warning can be ignored when running in bare mode.\n",
      "2025-07-23 00:46:51.659 \n",
      "  \u001b[33m\u001b[1mWarning:\u001b[0m to view this Streamlit app on a browser, run it with the following\n",
      "  command:\n",
      "\n",
      "    streamlit run C:\\Users\\Lenovo\\AppData\\Local\\Programs\\Python\\Python313\\Lib\\site-packages\\ipykernel_launcher.py [ARGUMENTS]\n",
      "2025-07-23 00:46:51.660 Thread 'MainThread': missing ScriptRunContext! This warning can be ignored when running in bare mode.\n",
      "2025-07-23 00:46:51.660 Thread 'MainThread': missing ScriptRunContext! This warning can be ignored when running in bare mode.\n",
      "2025-07-23 00:46:51.661 Thread 'MainThread': missing ScriptRunContext! This warning can be ignored when running in bare mode.\n",
      "2025-07-23 00:46:51.661 Thread 'MainThread': missing ScriptRunContext! This warning can be ignored when running in bare mode.\n",
      "2025-07-23 00:46:51.662 Thread 'MainThread': missing ScriptRunContext! This warning can be ignored when running in bare mode.\n",
      "2025-07-23 00:46:51.663 Thread 'MainThread': missing ScriptRunContext! This warning can be ignored when running in bare mode.\n",
      "2025-07-23 00:46:51.663 Thread 'MainThread': missing ScriptRunContext! This warning can be ignored when running in bare mode.\n",
      "2025-07-23 00:46:51.664 Thread 'MainThread': missing ScriptRunContext! This warning can be ignored when running in bare mode.\n"
     ]
    },
    {
     "name": "stdout",
     "output_type": "stream",
     "text": [
      "successfully\n"
     ]
    }
   ],
   "source": [
    "import streamlit as st\n",
    "import pdfplumber\n",
    "import fitz  # PyMuPDF\n",
    "from PIL import Image\n",
    "import tempfile\n",
    "\n",
    "st.title(\"📄 Table Highlighter in PDF\")\n",
    "\n",
    "# Step 1: Upload PDF\n",
    "pdf_file = st.file_uploader(\"Upload a PDF\", type=\"pdf\")\n",
    "\n",
    "# Step 2: Function to highlight tables\n",
    "def highlight_tables(input_path, output_path):\n",
    "    doc = fitz.open(input_path)\n",
    "    with pdfplumber.open(input_path) as pdf:\n",
    "        for i, (p1, p2) in enumerate(zip(pdf.pages, doc)):\n",
    "            tables = p1.find_tables()\n",
    "            for table in tables:\n",
    "                x0, y0, x1, y1 = table.bbox\n",
    "                rect = fitz.Rect(x0, y0, x1, y1)\n",
    "                p2.draw_rect(rect, color=(1, 0, 0), width=2)\n",
    "    doc.save(output_path)\n",
    "\n",
    "# Step 3: Convert 1st page to image\n",
    "def show_page(pdf_path):\n",
    "    doc = fitz.open(pdf_path)\n",
    "    page = doc[0]\n",
    "    pix = page.get_pixmap(dpi=150)\n",
    "    img = Image.frombytes(\"RGB\", [pix.width, pix.height], pix.samples)\n",
    "    st.image(img, use_column_width=True)\n",
    "\n",
    "# Step 4: When PDF is uploaded\n",
    "if pdf_file:\n",
    "    with tempfile.NamedTemporaryFile(delete=False, suffix=\".pdf\") as tmp_in:\n",
    "        tmp_in.write(pdf_file.read())\n",
    "        input_path = tmp_in.name\n",
    "\n",
    "    output_path = input_path.replace(\".pdf\", \"_highlighted.pdf\")\n",
    "    \n",
    "    highlight_tables(input_path, output_path)\n",
    "\n",
    "    st.success(\"✅ Tables highlighted!\")\n",
    "\n",
    "    show_page(output_path)\n",
    "\n",
    "    with open(output_path, \"rb\") as f:\n",
    "        st.download_button(\"📥 Download Result PDF\", f, \"highlighted_output.pdf\")\n",
    "   \n",
    "print(\"successfully\")"
   ]
  },
  {
   "cell_type": "code",
   "execution_count": 2,
   "id": "fa5b6173-cfdb-40fb-8515-b06f2ba1f339",
   "metadata": {},
   "outputs": [
    {
     "name": "stdout",
     "output_type": "stream",
     "text": [
      "✅ app.py file created successfully!\n"
     ]
    }
   ],
   "source": [
    "code = \"\"\"\n",
    "import streamlit as st\n",
    "import pdfplumber\n",
    "import fitz  # PyMuPDF\n",
    "from PIL import Image\n",
    "import tempfile\n",
    "\n",
    "st.title(\"📄 Table Highlighter in PDF\")\n",
    "\n",
    "pdf_file = st.file_uploader(\"Upload a PDF file\", type=\"pdf\")\n",
    "\n",
    "def highlight_tables(input_path, output_path):\n",
    "    doc = fitz.open(input_path)\n",
    "    with pdfplumber.open(input_path) as pdf:\n",
    "        for i, (page_plumber, page_fitz) in enumerate(zip(pdf.pages, doc)):\n",
    "            tables = page_plumber.find_tables()\n",
    "            for table in tables:\n",
    "                x0, y0, x1, y1 = table.bbox\n",
    "                rect = fitz.Rect(x0, y0, x1, y1)\n",
    "                page_fitz.draw_rect(rect, color=(1, 0, 0), width=2)\n",
    "    doc.save(output_path)\n",
    "\n",
    "def show_first_page(pdf_path):\n",
    "    doc = fitz.open(pdf_path)\n",
    "    page = doc.load_page(0)\n",
    "    pix = page.get_pixmap(dpi=150)\n",
    "    img = Image.frombytes(\"RGB\", [pix.width, pix.height], pix.samples)\n",
    "    st.image(img, caption=\"First Page with Highlighted Tables\", use_column_width=True)\n",
    "\n",
    "if pdf_file:\n",
    "    with tempfile.NamedTemporaryFile(delete=False, suffix=\".pdf\") as tmp_input:\n",
    "        tmp_input.write(pdf_file.read())\n",
    "        input_path = tmp_input.name\n",
    "\n",
    "    output_path = input_path.replace(\".pdf\", \"_highlighted.pdf\")\n",
    "    highlight_tables(input_path, output_path)\n",
    "\n",
    "    st.success(\"✅ Tables have been highlighted successfully!\")\n",
    "    show_first_page(output_path)\n",
    "\n",
    "    with open(output_path, \"rb\") as out_pdf:\n",
    "        st.download_button(\"📥 Download Highlighted PDF\", out_pdf, file_name=\"highlighted_output.pdf\")\n",
    "\"\"\"\n",
    "\n",
    "# Write code to app.py using UTF-8 encoding\n",
    "with open(\"app.py\", \"w\", encoding=\"utf-8\") as f:\n",
    "    f.write(code)\n",
    "\n",
    "print(\"✅ app.py file created successfully!\")\n"
   ]
  },
  {
   "cell_type": "code",
   "execution_count": null,
   "id": "cc1949fb-d50f-485b-8db1-b463580beb8a",
   "metadata": {},
   "outputs": [],
   "source": [
    "!streamlit run app.py\n"
   ]
  }
 ],
 "metadata": {
  "kernelspec": {
   "display_name": "Python 3 (ipykernel)",
   "language": "python",
   "name": "python3"
  },
  "language_info": {
   "codemirror_mode": {
    "name": "ipython",
    "version": 3
   },
   "file_extension": ".py",
   "mimetype": "text/x-python",
   "name": "python",
   "nbconvert_exporter": "python",
   "pygments_lexer": "ipython3",
   "version": "3.13.5"
  }
 },
 "nbformat": 4,
 "nbformat_minor": 5
}
